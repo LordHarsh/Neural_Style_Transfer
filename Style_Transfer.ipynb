{
  "nbformat": 4,
  "nbformat_minor": 0,
  "metadata": {
    "accelerator": "GPU",
    "colab": {
      "name": "Style Transfer.ipynb",
      "provenance": [],
      "collapsed_sections": [],
      "authorship_tag": "ABX9TyOwQQA8KVFFIYoS5Ef3iXMY",
      "include_colab_link": true
    },
    "kernelspec": {
      "display_name": "Python 3",
      "name": "python3"
    }
  },
  "cells": [
    {
      "cell_type": "markdown",
      "metadata": {
        "id": "view-in-github",
        "colab_type": "text"
      },
      "source": [
        "<a href=\"https://colab.research.google.com/github/LordHarsh/Neural_Style_Transfer/blob/main/Style_Transfer.ipynb\" target=\"_parent\"><img src=\"https://colab.research.google.com/assets/colab-badge.svg\" alt=\"Open In Colab\"/></a>"
      ]
    },
    {
      "cell_type": "markdown",
      "metadata": {
        "id": "jS8StX1WQYVW"
      },
      "source": [
        "## This is a trial"
      ]
    },
    {
      "cell_type": "code",
      "metadata": {
        "colab": {
          "base_uri": "https://localhost:8080/"
        },
        "id": "OapOCIh7roR4",
        "outputId": "6373e9bc-a9aa-4d3e-fa36-4ba4798bc171"
      },
      "source": [
        "!pip install pytube\r\n",
        "!pip install ffmpy"
      ],
      "execution_count": 1,
      "outputs": [
        {
          "output_type": "stream",
          "text": [
            "Collecting pytube\n",
            "\u001b[?25l  Downloading https://files.pythonhosted.org/packages/3c/1d/013b6498ecaa876d0d9722698f96faa4830266b306cd18c12b847bd10291/pytube-10.4.1-py3-none-any.whl (42kB)\n",
            "\r\u001b[K     |███████▋                        | 10kB 23.4MB/s eta 0:00:01\r\u001b[K     |███████████████▎                | 20kB 11.4MB/s eta 0:00:01\r\u001b[K     |███████████████████████         | 30kB 8.8MB/s eta 0:00:01\r\u001b[K     |██████████████████████████████▌ | 40kB 8.1MB/s eta 0:00:01\r\u001b[K     |████████████████████████████████| 51kB 3.3MB/s \n",
            "\u001b[?25hRequirement already satisfied: typing-extensions in /usr/local/lib/python3.6/dist-packages (from pytube) (3.7.4.3)\n",
            "Installing collected packages: pytube\n",
            "Successfully installed pytube-10.4.1\n",
            "Collecting ffmpy\n",
            "  Downloading https://files.pythonhosted.org/packages/bf/e2/947df4b3d666bfdd2b0c6355d215c45d2d40f929451cb29a8a2995b29788/ffmpy-0.3.0.tar.gz\n",
            "Building wheels for collected packages: ffmpy\n",
            "  Building wheel for ffmpy (setup.py) ... \u001b[?25l\u001b[?25hdone\n",
            "  Created wheel for ffmpy: filename=ffmpy-0.3.0-cp36-none-any.whl size=4710 sha256=1585ad92b1cfdcb8e32e8afe1053daf6ef890036ae2a19440e6cfc3eb56571c1\n",
            "  Stored in directory: /root/.cache/pip/wheels/cc/ac/c4/bef572cb7e52bfca170046f567e64858632daf77e0f34e5a74\n",
            "Successfully built ffmpy\n",
            "Installing collected packages: ffmpy\n",
            "Successfully installed ffmpy-0.3.0\n"
          ],
          "name": "stdout"
        }
      ]
    },
    {
      "cell_type": "code",
      "metadata": {
        "id": "owEhZyIHucBV"
      },
      "source": [
        "from style import transfer"
      ],
      "execution_count": null,
      "outputs": []
    },
    {
      "cell_type": "code",
      "metadata": {
        "id": "-hcFQD3akqzc"
      },
      "source": [
        "import matplotlib.pyplot as plt\r\n",
        "import tensorflow as tf\r\n",
        "import tensorflow_hub as hub\r\n",
        "import numpy as np\r\n",
        "from pytube import YouTube\r\n",
        "import sys\r\n",
        "import os\r\n",
        "import cv2\r\n",
        "from PIL import Image\r\n",
        "import glob\r\n",
        "import ffmpy\r\n",
        "from google.colab.patches import cv2_imshow"
      ],
      "execution_count": 2,
      "outputs": []
    },
    {
      "cell_type": "code",
      "metadata": {
        "colab": {
          "base_uri": "https://localhost:8080/"
        },
        "id": "Rtgdnhe1OQ1F",
        "outputId": "f0778078-5b32-4722-a626-0f7488bf5f1b"
      },
      "source": [
        "!curl https://upload.wikimedia.org/wikipedia/commons/thumb/e/ea/Van_Gogh_-_Starry_Night_-_Google_Art_Project.jpg/1200px-Van_Gogh_-_Starry_Night_-_Google_Art_Project.jpg --output style.jpg\r\n",
        "!curl https://static01.nyt.com/images/2013/07/06/nyregion/06empire-web/06empire-web-superJumbo.jpg --output content.jpg"
      ],
      "execution_count": 3,
      "outputs": [
        {
          "output_type": "stream",
          "text": [
            "  % Total    % Received % Xferd  Average Speed   Time    Time     Time  Current\n",
            "                                 Dload  Upload   Total   Spent    Left  Speed\n",
            "100  527k  100  527k    0     0  2144k      0 --:--:-- --:--:-- --:--:-- 2144k\n",
            "  % Total    % Received % Xferd  Average Speed   Time    Time     Time  Current\n",
            "                                 Dload  Upload   Total   Spent    Left  Speed\n",
            "100  413k  100  413k    0     0  2478k      0 --:--:-- --:--:-- --:--:-- 2463k\n"
          ],
          "name": "stdout"
        }
      ]
    },
    {
      "cell_type": "code",
      "metadata": {
        "id": "9_ZYcYWrbk1r"
      },
      "source": [
        "def transfer(content_img_path, style_img_path):\r\n",
        "  content_img = plt.imread(content_img_path)\r\n",
        "  style_img = plt.imread(style_img_path)\r\n",
        "\r\n",
        "  content_img = content_img.astype(np.float32)[np.newaxis, ...] / 255.0\r\n",
        "  style_img = style_img.astype(np.float32)[np.newaxis, ...] / 255.0\r\n",
        "  \r\n",
        "  style_img =tf.image.resize(style_img, (265, 265))\r\n",
        "  hub_module = hub.load('https://tfhub.dev/google/magenta/arbitrary-image-stylization-v1-256/2')\r\n",
        "  outputs = hub_module(tf.constant(content_img), tf.constant(style_img))\r\n",
        "  stylized_image = outputs[0]\r\n",
        "  return stylized_image"
      ],
      "execution_count": 4,
      "outputs": []
    },
    {
      "cell_type": "code",
      "metadata": {
        "id": "5hjANW6Iy8RJ"
      },
      "source": [
        "def StyleTransferVideo(list_content_img_path, style_img_path):\r\n",
        "  content_img_list = [plt.imread(content_img_path) for content_img_path in list_content_img_path]\r\n",
        "  style_img = plt.imread(style_img_path)\r\n",
        "\r\n",
        "  content_img_list = [content_img.astype(np.float32)[np.newaxis, ...] / 255.0 for content_img in content_img_list]\r\n",
        "  style_img = style_img.astype(np.float32)[np.newaxis, ...] / 255.0\r\n",
        "  \r\n",
        "  style_img =tf.image.resize(style_img, (265, 265))\r\n",
        "  \r\n",
        "\r\n",
        "  hub_module = hub.load('https://tfhub.dev/google/magenta/arbitrary-image-stylization-v1-256/2')\r\n",
        "  outputs = [hub_module(tf.constant(content_img), tf.constant(style_img)) for content_img in content_img_list]\r\n",
        "  print(\"-----------Style Transfer completed on all images-----------\")\r\n",
        "  return outputs"
      ],
      "execution_count": 14,
      "outputs": []
    },
    {
      "cell_type": "code",
      "metadata": {
        "id": "5QLWvzuCUf8a"
      },
      "source": [
        "def ExtractFrames(video_path, directory):\r\n",
        "  vidcap = cv2.VideoCapture(vidpath)\r\n",
        "\r\n",
        "  success,image = vidcap.read()\r\n",
        "  count = 0\r\n",
        "\r\n",
        "  newpath = os.path.join(directory, 'imgfolder')\r\n",
        "\r\n",
        "  if not os.path.exists(newpath):\r\n",
        "      os.makedirs(newpath)\r\n",
        "  \r\n",
        "  while success:\r\n",
        "    if (count%30==0):\r\n",
        "      cv2.imwrite(os.path.join(newpath, \"frame%.6d.jpg\" % count), image)     # save frame as JPEG file\r\n",
        "    success,image = vidcap.read()\r\n",
        "    count += 1 \r\n",
        "\r\n",
        "  frames = [f for f in os.listdir(newpath) if os.path.isfile(os.path.join(newpath, f))]\r\n",
        "  frames.sort()\r\n",
        "  print(\"-----------Frame extraction completed-----------\")\r\n",
        "  return frames, newpath"
      ],
      "execution_count": 6,
      "outputs": []
    },
    {
      "cell_type": "code",
      "metadata": {
        "id": "kQPfaw0Er3mP"
      },
      "source": [
        "def YTDownload(enterlink):\r\n",
        "  return YouTube(enterlink).streams.filter(only_video=True, subtype='mp4').order_by('resolution').desc().first().download()"
      ],
      "execution_count": 7,
      "outputs": []
    },
    {
      "cell_type": "code",
      "metadata": {
        "id": "pizec5mFvu4f"
      },
      "source": [
        "def ConvertTensorToCV2(generated_tensor):\r\n",
        "  # Tensorflow array to PIL image\r\n",
        "  generated_pil_img_array = [tf.keras.preprocessing.image.array_to_img(generated_tensor[i][0][0]) for i in range(len(generated_tensor))]\r\n",
        "\r\n",
        "  # PIL image to cv2 image\r\n",
        "  generated_cv2_img_array = [np.array(generated_pil_img_array[i], dtype=np.uint8)[:, :, ::-1].copy()  for i in range(len(generated_pil_img_array))]\r\n",
        "  print(\"-----------Image conversion completed-----------\")\r\n",
        "  return generated_cv2_img_array"
      ],
      "execution_count": 8,
      "outputs": []
    },
    {
      "cell_type": "code",
      "metadata": {
        "id": "KqIvdiOQ6jvH"
      },
      "source": [
        "def ConvertImagesToVideo(final_cv2_image_list, length=15):\r\n",
        "  height, width, layers = final_cv2_image_list[0].shape\r\n",
        "  size = (width,height)\r\n",
        "\r\n",
        "  path = os.path.join(os.getcwd(), 'StyleVideo.avi')\r\n",
        "  out = cv2.VideoWriter(path, cv2.VideoWriter_fourcc(*'DIVX'), length, size)\r\n",
        "  \r\n",
        "  for i in range(len(final_cv2_image_list)):\r\n",
        "    out.write(final_cv2_image_list[i])\r\n",
        "  out.release()\r\n",
        "  print(\"-----------Video construction completed-----------\")\r\n",
        "  return path"
      ],
      "execution_count": 12,
      "outputs": []
    },
    {
      "cell_type": "code",
      "metadata": {
        "id": "XEA1ESbI9xzG"
      },
      "source": [
        "def convert_avi_to_mp4(avi_file_path):\r\n",
        "  mp4_path = os.path.join(os.getcwd(), 'StyleVideo.mp4')\r\n",
        "  ff = ffmpy.FFmpeg(\r\n",
        "      inputs={os.path.basename(avi_file_path): None},\r\n",
        "      outputs={os.path.basename(mp4_path): None}\r\n",
        "  )\r\n",
        "  ff.run()\r\n",
        "  print(\"-----------Video conversion completed-----------\")\r\n",
        "  return mp4_path"
      ],
      "execution_count": 10,
      "outputs": []
    },
    {
      "cell_type": "code",
      "metadata": {
        "id": "5Doyo9fUrsHO",
        "colab": {
          "base_uri": "https://localhost:8080/"
        },
        "outputId": "7b9a7c59-5d25-4586-cb44-602741470d23"
      },
      "source": [
        "link=input()\r\n",
        "vidpath = YTDownload(link)\r\n",
        "current_directory = os.getcwd()\r\n",
        "onlyfiles, imgfolderpath = ExtractFrames(vidpath, current_directory)\r\n",
        "content_img_path_list = [os.path.join(imgfolderpath, pp) for pp in onlyfiles]\r\n",
        "style_image_path = os.path.join(os.getcwd(),'style.jpg')\r\n",
        "generated_img_list_output = StyleTransferVideo(content_img_path_list, style_image_path)\r\n",
        "final_cv2_image_list = ConvertTensorToCV2(generated_img_list_output)\r\n",
        "avi_video_path = ConvertImagesToVideo(final_cv2_image_list)\r\n",
        "mp4_video_path = convert_avi_to_mp4(avi_video_path)"
      ],
      "execution_count": 11,
      "outputs": [
        {
          "output_type": "stream",
          "text": [
            "https://www.youtube.com/watch?v=PfOqGpL3jlk\n",
            "-----------Frame extraction completed-----------\n",
            "-----------Style Transfer completed on all images-----------\n",
            "-----------Image conversion completed-----------\n",
            "-----------Video conversion completed-----------\n",
            "-----------Video conversion completed-----------\n"
          ],
          "name": "stdout"
        }
      ]
    },
    {
      "cell_type": "code",
      "metadata": {
        "id": "pQoOr5B8NBop"
      },
      "source": [
        "from IPython.display import HTML\r\n",
        "from base64 import b64encode\r\n",
        "import os\r\n",
        "\r\n",
        "# Input video path\r\n",
        "save_path = \"/content/StyleVideo.mp4\"\r\n",
        "\r\n",
        "# Compressed video path\r\n",
        "compressed_path = \"/content/result_compressed.mp4\"\r\n",
        "\r\n",
        "os.system(f\"ffmpeg -i {save_path} -vcodec libx264 {compressed_path}\")\r\n",
        "\r\n",
        "# Show video\r\n",
        "mp4 = open(compressed_path,'rb').read()\r\n",
        "data_url = \"data:video/mp4;base64,\" + b64encode(mp4).decode()\r\n",
        "HTML(\"\"\"\r\n",
        "<video width=400 controls>\r\n",
        "      <source src=\"%s\" type=\"video/mp4\">\r\n",
        "</video>\r\n",
        "\"\"\" % data_url)"
      ],
      "execution_count": 20,
      "outputs": []
    },
    {
      "cell_type": "code",
      "metadata": {
        "colab": {
          "base_uri": "https://localhost:8080/",
          "height": 1000
        },
        "id": "xeSU4IYg69Ee",
        "outputId": "518547ff-e1df-4d83-df70-3b7fddc11087"
      },
      "source": [
        "\r\n",
        "!pip install -U kora\r\n",
        "from kora.drive import upload_public\r\n",
        "url = upload_public('/content/StyleVideo.mp4')\r\n",
        "# then display it\r\n",
        "from IPython.display import HTML\r\n",
        "HTML(f\"\"\"<video src={url} width=500 controls/>\"\"\")"
      ],
      "execution_count": 15,
      "outputs": [
        {
          "output_type": "stream",
          "text": [
            "Collecting kora\n",
            "\u001b[?25l  Downloading https://files.pythonhosted.org/packages/5b/0d/3d9ab9ee747f0925b038e8350ce137276a7a4730a96a3516485dc1b87ba3/kora-0.9.19-py3-none-any.whl (57kB)\n",
            "\r\u001b[K     |█████▊                          | 10kB 22.3MB/s eta 0:00:01\r\u001b[K     |███████████▍                    | 20kB 11.4MB/s eta 0:00:01\r\u001b[K     |█████████████████               | 30kB 9.4MB/s eta 0:00:01\r\u001b[K     |██████████████████████▊         | 40kB 8.3MB/s eta 0:00:01\r\u001b[K     |████████████████████████████▍   | 51kB 5.4MB/s eta 0:00:01\r\u001b[K     |████████████████████████████████| 61kB 4.1MB/s \n",
            "\u001b[?25hRequirement already satisfied, skipping upgrade: ipython in /usr/local/lib/python3.6/dist-packages (from kora) (5.5.0)\n",
            "Collecting fastcore\n",
            "\u001b[?25l  Downloading https://files.pythonhosted.org/packages/0c/98/60404e2817cff113a6ae4023bc1772e23179408fdf7857fa410551758dfe/fastcore-1.3.19-py3-none-any.whl (53kB)\n",
            "\u001b[K     |████████████████████████████████| 61kB 5.8MB/s \n",
            "\u001b[?25hRequirement already satisfied, skipping upgrade: decorator in /usr/local/lib/python3.6/dist-packages (from ipython->kora) (4.4.2)\n",
            "Requirement already satisfied, skipping upgrade: pygments in /usr/local/lib/python3.6/dist-packages (from ipython->kora) (2.6.1)\n",
            "Requirement already satisfied, skipping upgrade: setuptools>=18.5 in /usr/local/lib/python3.6/dist-packages (from ipython->kora) (51.3.3)\n",
            "Requirement already satisfied, skipping upgrade: prompt-toolkit<2.0.0,>=1.0.4 in /usr/local/lib/python3.6/dist-packages (from ipython->kora) (1.0.18)\n",
            "Requirement already satisfied, skipping upgrade: pexpect; sys_platform != \"win32\" in /usr/local/lib/python3.6/dist-packages (from ipython->kora) (4.8.0)\n",
            "Requirement already satisfied, skipping upgrade: traitlets>=4.2 in /usr/local/lib/python3.6/dist-packages (from ipython->kora) (4.3.3)\n",
            "Requirement already satisfied, skipping upgrade: pickleshare in /usr/local/lib/python3.6/dist-packages (from ipython->kora) (0.7.5)\n",
            "Requirement already satisfied, skipping upgrade: simplegeneric>0.8 in /usr/local/lib/python3.6/dist-packages (from ipython->kora) (0.8.1)\n",
            "Requirement already satisfied, skipping upgrade: packaging in /usr/local/lib/python3.6/dist-packages (from fastcore->kora) (20.8)\n",
            "Requirement already satisfied, skipping upgrade: pip in /usr/local/lib/python3.6/dist-packages (from fastcore->kora) (19.3.1)\n",
            "Requirement already satisfied, skipping upgrade: wcwidth in /usr/local/lib/python3.6/dist-packages (from prompt-toolkit<2.0.0,>=1.0.4->ipython->kora) (0.2.5)\n",
            "Requirement already satisfied, skipping upgrade: six>=1.9.0 in /usr/local/lib/python3.6/dist-packages (from prompt-toolkit<2.0.0,>=1.0.4->ipython->kora) (1.15.0)\n",
            "Requirement already satisfied, skipping upgrade: ptyprocess>=0.5 in /usr/local/lib/python3.6/dist-packages (from pexpect; sys_platform != \"win32\"->ipython->kora) (0.7.0)\n",
            "Requirement already satisfied, skipping upgrade: ipython-genutils in /usr/local/lib/python3.6/dist-packages (from traitlets>=4.2->ipython->kora) (0.2.0)\n",
            "Requirement already satisfied, skipping upgrade: pyparsing>=2.0.2 in /usr/local/lib/python3.6/dist-packages (from packaging->fastcore->kora) (2.4.7)\n",
            "Installing collected packages: fastcore, kora\n",
            "Successfully installed fastcore-1.3.19 kora-0.9.19\n"
          ],
          "name": "stdout"
        },
        {
          "output_type": "stream",
          "text": [
            "WARNING:googleapiclient.discovery_cache:file_cache is unavailable when using oauth2client >= 4.0.0 or google-auth\n",
            "Traceback (most recent call last):\n",
            "  File \"/usr/local/lib/python3.6/dist-packages/googleapiclient/discovery_cache/__init__.py\", line 36, in autodetect\n",
            "    from google.appengine.api import memcache\n",
            "ModuleNotFoundError: No module named 'google.appengine'\n",
            "\n",
            "During handling of the above exception, another exception occurred:\n",
            "\n",
            "Traceback (most recent call last):\n",
            "  File \"/usr/local/lib/python3.6/dist-packages/googleapiclient/discovery_cache/file_cache.py\", line 33, in <module>\n",
            "    from oauth2client.contrib.locked_file import LockedFile\n",
            "ModuleNotFoundError: No module named 'oauth2client.contrib.locked_file'\n",
            "\n",
            "During handling of the above exception, another exception occurred:\n",
            "\n",
            "Traceback (most recent call last):\n",
            "  File \"/usr/local/lib/python3.6/dist-packages/googleapiclient/discovery_cache/file_cache.py\", line 37, in <module>\n",
            "    from oauth2client.locked_file import LockedFile\n",
            "ModuleNotFoundError: No module named 'oauth2client.locked_file'\n",
            "\n",
            "During handling of the above exception, another exception occurred:\n",
            "\n",
            "Traceback (most recent call last):\n",
            "  File \"/usr/local/lib/python3.6/dist-packages/googleapiclient/discovery_cache/__init__.py\", line 42, in autodetect\n",
            "    from . import file_cache\n",
            "  File \"/usr/local/lib/python3.6/dist-packages/googleapiclient/discovery_cache/file_cache.py\", line 41, in <module>\n",
            "    \"file_cache is unavailable when using oauth2client >= 4.0.0 or google-auth\"\n",
            "ImportError: file_cache is unavailable when using oauth2client >= 4.0.0 or google-auth\n"
          ],
          "name": "stderr"
        },
        {
          "output_type": "execute_result",
          "data": {
            "text/html": [
              "<video src=https://drive.google.com/uc?id=1ZAEGX-tj8V0cYYU1hn_PLzihMdbl0hxg width=500 controls/>"
            ],
            "text/plain": [
              "<IPython.core.display.HTML object>"
            ]
          },
          "metadata": {
            "tags": []
          },
          "execution_count": 15
        }
      ]
    },
    {
      "cell_type": "code",
      "metadata": {
        "id": "eXvwW4BLO_Zu"
      },
      "source": [
        "plt.imshow(transfer(\"/content/content.jpg\", \"/content/style.jpg\")[0])"
      ],
      "execution_count": null,
      "outputs": []
    },
    {
      "cell_type": "code",
      "metadata": {
        "colab": {
          "background_save": true
        },
        "id": "2IoVH2LQRvVv"
      },
      "source": [
        ""
      ],
      "execution_count": null,
      "outputs": []
    }
  ]
}