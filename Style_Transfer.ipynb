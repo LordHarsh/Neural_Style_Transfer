{
  "nbformat": 4,
  "nbformat_minor": 0,
  "metadata": {
    "accelerator": "GPU",
    "colab": {
      "name": "Style Transfer.ipynb",
      "provenance": [],
      "collapsed_sections": [],
      "authorship_tag": "ABX9TyO6W35yIPheAXR5uiqaf2xY",
      "include_colab_link": true
    },
    "kernelspec": {
      "display_name": "Python 3",
      "name": "python3"
    }
  },
  "cells": [
    {
      "cell_type": "markdown",
      "metadata": {
        "id": "view-in-github",
        "colab_type": "text"
      },
      "source": [
        "<a href=\"https://colab.research.google.com/github/LordHarsh/Neural_Style_Transfer/blob/main/Style_Transfer.ipynb\" target=\"_parent\"><img src=\"https://colab.research.google.com/assets/colab-badge.svg\" alt=\"Open In Colab\"/></a>"
      ]
    },
    {
      "cell_type": "markdown",
      "metadata": {
        "id": "jS8StX1WQYVW"
      },
      "source": [
        "## This is a trial"
      ]
    },
    {
      "cell_type": "code",
      "metadata": {
        "id": "OapOCIh7roR4"
      },
      "source": [
        "!pip install pytube\r\n",
        "!pip install ffmpy"
      ],
      "execution_count": null,
      "outputs": []
    },
    {
      "cell_type": "code",
      "metadata": {
        "id": "-hcFQD3akqzc"
      },
      "source": [
        "import matplotlib.pyplot as plt\r\n",
        "import tensorflow as tf\r\n",
        "import tensorflow_hub as hub\r\n",
        "import numpy as np\r\n",
        "from pytube import YouTube\r\n",
        "import os\r\n",
        "import cv2\r\n",
        "from PIL import Image\r\n",
        "import glob\r\n",
        "import ffmpy\r\n",
        "from google.colab.patches import cv2_imshow"
      ],
      "execution_count": null,
      "outputs": []
    },
    {
      "cell_type": "code",
      "metadata": {
        "id": "Rtgdnhe1OQ1F"
      },
      "source": [
        "!curl https://upload.wikimedia.org/wikipedia/commons/thumb/e/ea/Van_Gogh_-_Starry_Night_-_Google_Art_Project.jpg/1200px-Van_Gogh_-_Starry_Night_-_Google_Art_Project.jpg --output style.jpg\r\n",
        "!curl https://static01.nyt.com/images/2013/07/06/nyregion/06empire-web/06empire-web-superJumbo.jpg --output content.jpg"
      ],
      "execution_count": null,
      "outputs": []
    },
    {
      "cell_type": "code",
      "metadata": {
        "id": "9_ZYcYWrbk1r"
      },
      "source": [
        "def transfer(content_img_path, style_img_path):\r\n",
        "  content_img = plt.imread(content_img_path)\r\n",
        "  style_img = plt.imread(style_img_path)\r\n",
        "\r\n",
        "  content_img = content_img.astype(np.float32)[np.newaxis, ...] / 255.0\r\n",
        "  style_img = style_img.astype(np.float32)[np.newaxis, ...] / 255.0\r\n",
        "  \r\n",
        "  style_img =tf.image.resize(style_img, (265, 265))\r\n",
        "  hub_module = hub.load('https://tfhub.dev/google/magenta/arbitrary-image-stylization-v1-256/2')\r\n",
        "  outputs = hub_module(tf.constant(content_img), tf.constant(style_img))\r\n",
        "  stylized_image = outputs[0]\r\n",
        "  return stylized_image"
      ],
      "execution_count": null,
      "outputs": []
    },
    {
      "cell_type": "code",
      "metadata": {
        "id": "5hjANW6Iy8RJ"
      },
      "source": [
        "def StyleTransferVideo(list_content_img_path, style_img_path):\r\n",
        "  content_img_list = [plt.imread(content_img_path) for content_img_path in list_content_img_path]\r\n",
        "  style_img = plt.imread(style_img_path)\r\n",
        "\r\n",
        "  content_img_list = [content_img.astype(np.float32)[np.newaxis, ...] / 255.0 for content_img in content_img_list]\r\n",
        "  style_img = style_img.astype(np.float32)[np.newaxis, ...] / 255.0\r\n",
        "  \r\n",
        "  style_img =tf.image.resize(style_img, (265, 265))\r\n",
        "  \r\n",
        "\r\n",
        "  hub_module = hub.load('https://tfhub.dev/google/magenta/arbitrary-image-stylization-v1-256/2')\r\n",
        "  outputs = [hub_module(tf.constant(content_img), tf.constant(style_img)) for content_img in content_img_list]\r\n",
        "  print(\"-----------Style Transfer completed on all images-----------\")\r\n",
        "  return outputs"
      ],
      "execution_count": null,
      "outputs": []
    },
    {
      "cell_type": "code",
      "metadata": {
        "id": "5QLWvzuCUf8a"
      },
      "source": [
        "def ExtractFrames(video_path, directory):\r\n",
        "  vidcap = cv2.VideoCapture(vidpath)\r\n",
        "\r\n",
        "  success,image = vidcap.read()\r\n",
        "  count = 0\r\n",
        "\r\n",
        "  newpath = os.path.join(directory, 'imgfolder')\r\n",
        "\r\n",
        "  if not os.path.exists(newpath):\r\n",
        "      os.makedirs(newpath)\r\n",
        "  \r\n",
        "  while success:\r\n",
        "    if (count%30==0):\r\n",
        "      cv2.imwrite(os.path.join(newpath, \"frame%.6d.jpg\" % count), image)     # save frame as JPEG file\r\n",
        "    success,image = vidcap.read()\r\n",
        "    count += 1 \r\n",
        "\r\n",
        "  frames = [f for f in os.listdir(newpath) if os.path.isfile(os.path.join(newpath, f))]\r\n",
        "  frames.sort()\r\n",
        "  print(\"-----------Frame extraction completed-----------\")\r\n",
        "  return frames, newpath"
      ],
      "execution_count": null,
      "outputs": []
    },
    {
      "cell_type": "code",
      "metadata": {
        "id": "kQPfaw0Er3mP"
      },
      "source": [
        "def YTDownload(enterlink):\r\n",
        "  return YouTube(enterlink).streams.filter(only_video=True, subtype='mp4').order_by('resolution').desc().first().download()"
      ],
      "execution_count": null,
      "outputs": []
    },
    {
      "cell_type": "code",
      "metadata": {
        "id": "pizec5mFvu4f"
      },
      "source": [
        "def ConvertTensorToCV2(generated_tensor):\r\n",
        "  # Tensorflow array to PIL image\r\n",
        "  generated_pil_img_array = [tf.keras.preprocessing.image.array_to_img(generated_tensor[i][0][0]) for i in range(len(generated_tensor))]\r\n",
        "\r\n",
        "  # PIL image to cv2 image\r\n",
        "  generated_cv2_img_array = [np.array(generated_pil_img_array[i], dtype=np.uint8)[:, :, ::-1].copy()  for i in range(len(generated_pil_img_array))]\r\n",
        "  print(\"-----------Image conversion completed-----------\")\r\n",
        "  return generated_cv2_img_array"
      ],
      "execution_count": null,
      "outputs": []
    },
    {
      "cell_type": "code",
      "metadata": {
        "id": "KqIvdiOQ6jvH"
      },
      "source": [
        "def ConvertImagesToVideo(final_cv2_image_list, length=1):\r\n",
        "  height, width, layers = final_cv2_image_list[0].shape\r\n",
        "  size = (width,height)\r\n",
        "\r\n",
        "  path = os.path.join(os.getcwd(), 'StyleVideo.avi')\r\n",
        "  out = cv2.VideoWriter(path, cv2.VideoWriter_fourcc(*'DIVX'), length, size)\r\n",
        "  \r\n",
        "  for i in range(len(final_cv2_image_list)):\r\n",
        "    out.write(final_cv2_image_list[i])\r\n",
        "  out.release()\r\n",
        "  print(\"-----------Video construction completed-----------\")\r\n",
        "  return path"
      ],
      "execution_count": null,
      "outputs": []
    },
    {
      "cell_type": "code",
      "metadata": {
        "id": "XEA1ESbI9xzG"
      },
      "source": [
        "def convert_avi_to_mp4(avi_file_path):\r\n",
        "  mp4_path = os.path.join(os.getcwd(), 'StyleVideo.mp4')\r\n",
        "  ff = ffmpy.FFmpeg(\r\n",
        "      inputs={os.path.basename(avi_file_path): None},\r\n",
        "      outputs={os.path.basename(mp4_path): None}\r\n",
        "  )\r\n",
        "  ff.run()\r\n",
        "  print(\"-----------Video conversion completed-----------\")\r\n",
        "  return mp4_path"
      ],
      "execution_count": null,
      "outputs": []
    },
    {
      "cell_type": "code",
      "metadata": {
        "id": "5Doyo9fUrsHO"
      },
      "source": [
        "link=input()\r\n",
        "vidpath = YTDownload(link)\r\n",
        "current_directory = os.getcwd()\r\n",
        "onlyfiles, imgfolderpath = ExtractFrames(vidpath, current_directory)\r\n",
        "content_img_path_list = [os.path.join(imgfolderpath, pp) for pp in onlyfiles]\r\n",
        "style_image_path = os.path.join(os.getcwd(),'style.jpg')\r\n",
        "generated_img_list_output = StyleTransferVideo(content_img_path_list, style_image_path)\r\n",
        "final_cv2_image_list = ConvertTensorToCV2(generated_img_list_output)\r\n",
        "avi_video_path = ConvertImagesToVideo(final_cv2_image_list)\r\n",
        "mp4_video_path = convert_avi_to_mp4(avi_video_path)"
      ],
      "execution_count": null,
      "outputs": []
    },
    {
      "cell_type": "code",
      "metadata": {
        "id": "xeSU4IYg69Ee"
      },
      "source": [
        "!pip install -U kora\r\n",
        "from kora.drive import upload_public\r\n",
        "url = upload_public('/content/StyleVideo.mp4')\r\n",
        "# then display it\r\n",
        "from IPython.display import HTML\r\n",
        "HTML(f\"\"\"<video src={url} width=500 controls/>\"\"\")"
      ],
      "execution_count": null,
      "outputs": []
    }
  ]
}