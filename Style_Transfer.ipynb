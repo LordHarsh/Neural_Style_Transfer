{
  "nbformat": 4,
  "nbformat_minor": 0,
  "metadata": {
    "accelerator": "GPU",
    "colab": {
      "name": "Style Transfer.ipynb",
      "provenance": [],
      "collapsed_sections": [],
      "authorship_tag": "ABX9TyPPAZD7+OSkDNzaMrJnqaId",
      "include_colab_link": true
    },
    "kernelspec": {
      "display_name": "Python 3",
      "name": "python3"
    }
  },
  "cells": [
    {
      "cell_type": "markdown",
      "metadata": {
        "id": "view-in-github",
        "colab_type": "text"
      },
      "source": [
        "<a href=\"https://colab.research.google.com/github/LordHarsh/Neural_Style_Transfer/blob/main/Style_Transfer.ipynb\" target=\"_parent\"><img src=\"https://colab.research.google.com/assets/colab-badge.svg\" alt=\"Open In Colab\"/></a>"
      ]
    },
    {
      "cell_type": "markdown",
      "metadata": {
        "id": "jS8StX1WQYVW"
      },
      "source": [
        "## Lets install the package"
      ]
    },
    {
      "cell_type": "markdown",
      "metadata": {
        "id": "Rd0P9VZrNC7o"
      },
      "source": [
        "##### This is a package I made to perform Neural Style Transfer on video frames"
      ]
    },
    {
      "cell_type": "code",
      "metadata": {
        "id": "3vTMNHTe_ozS"
      },
      "source": [
        "!pip install StyleTransferTensorFlow==0.1.3"
      ],
      "execution_count": null,
      "outputs": []
    },
    {
      "cell_type": "code",
      "metadata": {
        "id": "aF8Nm9juWUy8"
      },
      "source": [
        "import StyleTransferTensorFlow as st\n",
        "import os"
      ],
      "execution_count": null,
      "outputs": []
    },
    {
      "cell_type": "markdown",
      "metadata": {
        "id": "CMxGhyeuNVPf"
      },
      "source": [
        "Now we need two thing-\n",
        "\n",
        "\n",
        "*   The video on which we need to perform style transfer- For best results try taking video of a scenry, building or city.\n",
        "*   The style image- This needs to an art image. This program tries to transfer artistic features of this image to frames of the video.\n",
        "\n"
      ]
    },
    {
      "cell_type": "markdown",
      "metadata": {
        "id": "W_xVn9jxOQpE"
      },
      "source": [
        "Examples for video-"
      ]
    },
    {
      "cell_type": "code",
      "metadata": {
        "cellView": "form",
        "id": "GIv_n-aNNUtb"
      },
      "source": [
        "#@title Select the video- (Some examples are given below)\n",
        "\n",
        "video_input = \"YouTube URL\" #@param [\"Upload from PC\", \"YouTube URL\"]\n",
        "video_url = \"Empire State Building\" #@param [\"Leave empty if uploading from PC\", \"Empire State Building\"] {allow-input: true}\n",
        "#@markdown Copy and paste url of the picture here.\n",
        "!pip install pytube\n",
        "\n",
        "from pytube import YouTube\n",
        "\n",
        "def YTDownload(enterlink):\n",
        "  return YouTube(enterlink).streams.filter(only_video=True, subtype='mp4').order_by('resolution').desc().first().download()\n",
        "\n",
        "vidpath = ''\n",
        "if video_input==\"YouTube URL\":\n",
        "  if video_url==\"Empire State Building\":\n",
        "    video_url='https://www.youtube.com/watch?v=PfOqGpL3jlk'\n",
        "  vidpath = YTDownload(video_url)\n",
        "  print(\"Video Downloaded.....\")\n",
        "\n",
        "elif video_input==\"Upload from PC\":\n",
        "\n",
        "  from google.colab import files\n",
        "\n",
        "  uploaded = files.upload()\n",
        "\n",
        "  for fn in uploaded.keys():\n",
        "    vidpath=os.path.join(os.getcwd(), fn)\n",
        "    print('User uploaded file \"{name}\" with length {length} bytes'.format(\n",
        "        name=fn, length=len(uploaded[fn])))"
      ],
      "execution_count": null,
      "outputs": []
    },
    {
      "cell_type": "code",
      "metadata": {
        "cellView": "form",
        "id": "EJLrHvW1WmWn"
      },
      "source": [
        "#@title Select the style picture- (Some examples are given below)\n",
        "pic_input_type = \"URL\" #@param [\"Upload from PC\", \"URL\"]\n",
        "pic_url = \"Starry Night\" #@param [\"Leave empty if uploading from PC\", \"Starry Night\", \"Custom\"] {allow-input: true}\n",
        "#@markdown Copy and paste url of the picture here.\n",
        "picpath = ''\n",
        "if pic_input_type==\"URL\":\n",
        "  if pic_url==\"Starry Night\":\n",
        "    pic_url='https://upload.wikimedia.org/wikipedia/commons/thumb/e/ea/Van_Gogh_-_Starry_Night_-_Google_Art_Project.jpg/1200px-Van_Gogh_-_Starry_Night_-_Google_Art_Project.jpg'\n",
        "  import requests\n",
        "  picpath=os.path.join(os.getcwd(), \"style.jpg\")\n",
        "  with open('style.jpg', 'wb') as handle:\n",
        "          response = requests.get('https://upload.wikimedia.org/wikipedia/commons/thumb/e/ea/Van_Gogh_-_Starry_Night_-_Google_Art_Project.jpg/1200px-Van_Gogh_-_Starry_Night_-_Google_Art_Project.jpg', stream=True)\n",
        "\n",
        "          if not response.ok:\n",
        "              print (response)\n",
        "\n",
        "          for block in response.iter_content(1024):\n",
        "              if not block:\n",
        "                  break\n",
        "              handle.write(block)\n",
        "  print(\"Picture Downloaded.....\")\n",
        "elif pic_input_type==\"Upload from PC\":\n",
        "\n",
        "  from google.colab import files\n",
        "\n",
        "  uploaded = files.upload()\n",
        "\n",
        "  for fn in uploaded.keys():\n",
        "    picpath=os.path.join(os.getcwd(), fn)\n",
        "    print('User uploaded file \"{name}\" with length {length} bytes'.format(\n",
        "        name=fn, length=len(uploaded[fn])))"
      ],
      "execution_count": null,
      "outputs": []
    },
    {
      "cell_type": "code",
      "metadata": {
        "id": "MZNCFPqtxTN2"
      },
      "source": [],
      "execution_count": null,
      "outputs": []
    },
    {
      "cell_type": "markdown",
      "metadata": {
        "id": "DKb40r3Iwnkj"
      },
      "source": [
        "### -> Now this cell given below do all the main task- extracting frames from video, applying style transfer to each frame, converting frames to cv2 images and converting this the video."
      ]
    },
    {
      "cell_type": "code",
      "metadata": {
        "id": "txEg2CnRDxRb"
      },
      "source": [
        "mp4_video_path = st.make.MakeVideo(vidpath, picpath)   "
      ],
      "execution_count": null,
      "outputs": []
    },
    {
      "cell_type": "code",
      "metadata": {
        "id": "oDuIs73UwIWB"
      },
      "source": [
        "#@title View the new video directly in the browser through Colab \n",
        "\n",
        "#@markdown While Running this cell, it will ask \"Enter verification code\". This code is present in the link which is present just above the text box. It will read something as \"https://accounts.google.com/o/........\" This will ask you to allow some access, you can do it. Don't worry its safe. But if you dont want to do it run the last cell of this note book, it will download the video directly to your PC.\n",
        "\n",
        "!pip install -U kora\n",
        "\n",
        "from kora.drive import upload_public\n",
        "\n",
        "url = upload_public(mp4_video_path)\n",
        "\n",
        "# then display it\n",
        "\n",
        "from IPython.display import HTML\n",
        "\n",
        "HTML(f\"\"\"<video src={url} width=500 controls/>\"\"\")"
      ],
      "execution_count": null,
      "outputs": []
    },
    {
      "cell_type": "code",
      "metadata": {
        "cellView": "form",
        "id": "dyCo0LJHnkIa"
      },
      "source": [
        "#@title Lets do some custum video making\n",
        "invert_image_colour = False #@param [\"True\", \"False\"] {type:\"raw\"}\n",
        "#@markdown * Try changing this value to True from False\n",
        "extract_frame_rate = 30 #@param {type:\"slider\", min:1, max:40, step:1}\n",
        "#@markdown * Try changing this value- Setting this to i means that every ith frame is included in the new style video.\n",
        "#@markdown * So, extract_frame_rate=1 means every frame of orignal video is included in the new video and extract_frame_rate mean every 40th frame is included in the video.\n",
        "#@markdown * Note -> The lower the value of extract_frame_rate, the more computation time it will take.\n",
        "\n",
        "mp4_video_path = st.make.MakeVideo(vidpath, picpath, invert=invert_image_colour,  extractframerate=extract_frame_rate)"
      ],
      "execution_count": null,
      "outputs": []
    },
    {
      "cell_type": "code",
      "metadata": {
        "id": "xeSU4IYg69Ee"
      },
      "source": [
        "#@title View the new video directly in the browser through Colab \n",
        "\n",
        "#@markdown While Running this cell, it will ask \"Enter verification code\". This code is present in the link which is present just above the text box. It will read something as \"https://accounts.google.com/o/........\" This will ask you to allow some access, you can do it. Don't worry its safe. But if you dont want to do it run the last cell of this note book, it will download the video directly to your PC.\n",
        "\n",
        "!pip install -U kora\n",
        "\n",
        "from kora.drive import upload_public\n",
        "\n",
        "url = upload_public(mp4_video_path)\n",
        "\n",
        "# then display it\n",
        "\n",
        "from IPython.display import HTML\n",
        "\n",
        "HTML(f\"\"\"<video src={url} width=500 controls/>\"\"\")"
      ],
      "execution_count": null,
      "outputs": []
    },
    {
      "cell_type": "markdown",
      "metadata": {
        "id": "jONlmBtLtt3b"
      },
      "source": [
        "While Running this cell, it will ask \"Enter verification code\". This code is present in the link which is present just above the text box. It will read something as \"https://accounts.google.com/o/........\" This will ask you to allow some access, you can do it. Don't worry its safe.\n",
        "But if you dont want to do it run the last cell of this note book, it will download the video directly to your PC."
      ]
    },
    {
      "cell_type": "code",
      "metadata": {
        "id": "yDqm_YpHbY6L"
      },
      "source": [
        "from google.colab import files\n",
        "files.download(mp4_video_path)"
      ],
      "execution_count": null,
      "outputs": []
    }
  ]
}